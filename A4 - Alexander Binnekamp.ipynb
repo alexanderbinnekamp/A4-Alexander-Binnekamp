{
 "cells": [
  {
   "cell_type": "code",
   "execution_count": 4,
   "id": "4e002c1a",
   "metadata": {},
   "outputs": [
    {
     "name": "stdout",
     "output_type": "stream",
     "text": [
      "Requirement already satisfied: pandas in c:\\users\\alexa\\anaconda3\\lib\\site-packages (1.2.4)\n",
      "Collecting pandas\n",
      "  Downloading pandas-1.3.4-cp38-cp38-win_amd64.whl (10.2 MB)\n",
      "Requirement already satisfied: python-dateutil>=2.7.3 in c:\\users\\alexa\\anaconda3\\lib\\site-packages (from pandas) (2.8.1)\n",
      "Requirement already satisfied: numpy>=1.17.3 in c:\\users\\alexa\\anaconda3\\lib\\site-packages (from pandas) (1.20.1)\n",
      "Requirement already satisfied: pytz>=2017.3 in c:\\users\\alexa\\anaconda3\\lib\\site-packages (from pandas) (2021.1)\n",
      "Requirement already satisfied: six>=1.5 in c:\\users\\alexa\\anaconda3\\lib\\site-packages (from python-dateutil>=2.7.3->pandas) (1.15.0)\n",
      "Installing collected packages: pandas\n",
      "  Attempting uninstall: pandas\n",
      "    Found existing installation: pandas 1.2.4\n",
      "    Uninstalling pandas-1.2.4:\n",
      "      Successfully uninstalled pandas-1.2.4\n",
      "Successfully installed pandas-1.3.4\n"
     ]
    }
   ],
   "source": [
    "!pip3 install --upgrade pandas"
   ]
  },
  {
   "cell_type": "code",
   "execution_count": 11,
   "id": "77209ff0",
   "metadata": {},
   "outputs": [
    {
     "name": "stdout",
     "output_type": "stream",
     "text": [
      "Requirement already satisfied: twarc in c:\\users\\alexa\\anaconda3\\lib\\site-packages (2.8.2)\n",
      "Requirement already satisfied: python-dateutil>=2.8 in c:\\users\\alexa\\anaconda3\\lib\\site-packages (from twarc) (2.8.1)\n",
      "Requirement already satisfied: requests-oauthlib>=1.3 in c:\\users\\alexa\\anaconda3\\lib\\site-packages (from twarc) (1.3.0)\n",
      "Requirement already satisfied: click-config-file>=0.6 in c:\\users\\alexa\\anaconda3\\lib\\site-packages (from twarc) (0.6.0)\n",
      "Requirement already satisfied: click-plugins>=1 in c:\\users\\alexa\\anaconda3\\lib\\site-packages (from twarc) (1.1.1)\n",
      "Requirement already satisfied: tqdm>=4.62 in c:\\users\\alexa\\anaconda3\\lib\\site-packages (from twarc) (4.62.3)\n",
      "Requirement already satisfied: humanize>=3.9 in c:\\users\\alexa\\anaconda3\\lib\\site-packages (from twarc) (3.13.1)\n",
      "Requirement already satisfied: click<9,>=7 in c:\\users\\alexa\\anaconda3\\lib\\site-packages (from twarc) (7.1.2)\n",
      "Requirement already satisfied: configobj>=5.0.6 in c:\\users\\alexa\\anaconda3\\lib\\site-packages (from click-config-file>=0.6->twarc) (5.0.6)\n",
      "Requirement already satisfied: six in c:\\users\\alexa\\anaconda3\\lib\\site-packages (from configobj>=5.0.6->click-config-file>=0.6->twarc) (1.15.0)\n",
      "Requirement already satisfied: requests>=2.0.0 in c:\\users\\alexa\\anaconda3\\lib\\site-packages (from requests-oauthlib>=1.3->twarc) (2.25.1)\n",
      "Requirement already satisfied: oauthlib>=3.0.0 in c:\\users\\alexa\\anaconda3\\lib\\site-packages (from requests-oauthlib>=1.3->twarc) (3.1.1)\n",
      "Requirement already satisfied: urllib3<1.27,>=1.21.1 in c:\\users\\alexa\\anaconda3\\lib\\site-packages (from requests>=2.0.0->requests-oauthlib>=1.3->twarc) (1.26.4)\n",
      "Requirement already satisfied: certifi>=2017.4.17 in c:\\users\\alexa\\anaconda3\\lib\\site-packages (from requests>=2.0.0->requests-oauthlib>=1.3->twarc) (2020.12.5)\n",
      "Requirement already satisfied: idna<3,>=2.5 in c:\\users\\alexa\\anaconda3\\lib\\site-packages (from requests>=2.0.0->requests-oauthlib>=1.3->twarc) (2.10)\n",
      "Requirement already satisfied: chardet<5,>=3.0.2 in c:\\users\\alexa\\anaconda3\\lib\\site-packages (from requests>=2.0.0->requests-oauthlib>=1.3->twarc) (4.0.0)\n",
      "Requirement already satisfied: colorama in c:\\users\\alexa\\anaconda3\\lib\\site-packages (from tqdm>=4.62->twarc) (0.4.4)\n"
     ]
    }
   ],
   "source": [
    "!pip install twarc --upgrade"
   ]
  },
  {
   "cell_type": "code",
   "execution_count": 15,
   "id": "36da2e5d",
   "metadata": {},
   "outputs": [
    {
     "name": "stdout",
     "output_type": "stream",
     "text": [
      "Collecting plotly\n",
      "  Downloading plotly-5.4.0-py2.py3-none-any.whl (25.3 MB)\n",
      "Requirement already satisfied: six in c:\\users\\alexa\\anaconda3\\lib\\site-packages (from plotly) (1.15.0)\n",
      "Collecting tenacity>=6.2.0\n",
      "  Downloading tenacity-8.0.1-py3-none-any.whl (24 kB)\n",
      "Installing collected packages: tenacity, plotly\n",
      "Successfully installed plotly-5.4.0 tenacity-8.0.1\n"
     ]
    }
   ],
   "source": [
    "!pip install plotly"
   ]
  },
  {
   "cell_type": "code",
   "execution_count": 57,
   "id": "0aa9a2c5",
   "metadata": {},
   "outputs": [],
   "source": [
    "import plotly.express as px"
   ]
  },
  {
   "cell_type": "code",
   "execution_count": 17,
   "id": "588769af",
   "metadata": {},
   "outputs": [],
   "source": [
    "import pandas as pd"
   ]
  },
  {
   "cell_type": "code",
   "execution_count": 67,
   "id": "d87a0868",
   "metadata": {},
   "outputs": [
    {
     "data": {
      "text/plain": [
       "['',\n",
       " '  0%|          | Processed a moment/6 days [00:00<?, 0 tweets total ]',\n",
       " '100%|##########| Processed 6 days/6 days [00:00<00:00, 3279989 tweets total ]',\n",
       " '100%|##########| Processed 6 days/6 days [00:00<00:00, 3279989 tweets total ]']"
      ]
     },
     "execution_count": 67,
     "metadata": {},
     "output_type": "execute_result"
    }
   ],
   "source": [
    "csv_tweets = !twarc2 counts \"bitcoin\" --csv C:/Users/alexa/OneDrive/Documenten/data/tweets.csv\n",
    "\n",
    "csv_tweets\n",
    "\n"
   ]
  },
  {
   "cell_type": "code",
   "execution_count": 63,
   "id": "b17afae5",
   "metadata": {},
   "outputs": [
    {
     "data": {
      "text/html": [
       "<div>\n",
       "<style scoped>\n",
       "    .dataframe tbody tr th:only-of-type {\n",
       "        vertical-align: middle;\n",
       "    }\n",
       "\n",
       "    .dataframe tbody tr th {\n",
       "        vertical-align: top;\n",
       "    }\n",
       "\n",
       "    .dataframe thead th {\n",
       "        text-align: right;\n",
       "    }\n",
       "</style>\n",
       "<table border=\"1\" class=\"dataframe\">\n",
       "  <thead>\n",
       "    <tr style=\"text-align: right;\">\n",
       "      <th></th>\n",
       "      <th>start</th>\n",
       "      <th>end</th>\n",
       "      <th>hour_count</th>\n",
       "    </tr>\n",
       "  </thead>\n",
       "  <tbody>\n",
       "    <tr>\n",
       "      <th>0</th>\n",
       "      <td>2021-12-03 14:34:40+00:00</td>\n",
       "      <td>2021-12-03 15:00:00+00:00</td>\n",
       "      <td>9516</td>\n",
       "    </tr>\n",
       "    <tr>\n",
       "      <th>1</th>\n",
       "      <td>2021-12-03 15:00:00+00:00</td>\n",
       "      <td>2021-12-03 16:00:00+00:00</td>\n",
       "      <td>20940</td>\n",
       "    </tr>\n",
       "    <tr>\n",
       "      <th>2</th>\n",
       "      <td>2021-12-03 16:00:00+00:00</td>\n",
       "      <td>2021-12-03 17:00:00+00:00</td>\n",
       "      <td>22906</td>\n",
       "    </tr>\n",
       "    <tr>\n",
       "      <th>3</th>\n",
       "      <td>2021-12-03 17:00:00+00:00</td>\n",
       "      <td>2021-12-03 18:00:00+00:00</td>\n",
       "      <td>21803</td>\n",
       "    </tr>\n",
       "    <tr>\n",
       "      <th>4</th>\n",
       "      <td>2021-12-03 18:00:00+00:00</td>\n",
       "      <td>2021-12-03 19:00:00+00:00</td>\n",
       "      <td>18866</td>\n",
       "    </tr>\n",
       "    <tr>\n",
       "      <th>...</th>\n",
       "      <td>...</td>\n",
       "      <td>...</td>\n",
       "      <td>...</td>\n",
       "    </tr>\n",
       "    <tr>\n",
       "      <th>164</th>\n",
       "      <td>2021-12-10 10:00:00+00:00</td>\n",
       "      <td>2021-12-10 11:00:00+00:00</td>\n",
       "      <td>18095</td>\n",
       "    </tr>\n",
       "    <tr>\n",
       "      <th>165</th>\n",
       "      <td>2021-12-10 11:00:00+00:00</td>\n",
       "      <td>2021-12-10 12:00:00+00:00</td>\n",
       "      <td>18443</td>\n",
       "    </tr>\n",
       "    <tr>\n",
       "      <th>166</th>\n",
       "      <td>2021-12-10 12:00:00+00:00</td>\n",
       "      <td>2021-12-10 13:00:00+00:00</td>\n",
       "      <td>19812</td>\n",
       "    </tr>\n",
       "    <tr>\n",
       "      <th>167</th>\n",
       "      <td>2021-12-10 13:00:00+00:00</td>\n",
       "      <td>2021-12-10 14:00:00+00:00</td>\n",
       "      <td>25656</td>\n",
       "    </tr>\n",
       "    <tr>\n",
       "      <th>168</th>\n",
       "      <td>2021-12-10 14:00:00+00:00</td>\n",
       "      <td>2021-12-10 14:34:40+00:00</td>\n",
       "      <td>15599</td>\n",
       "    </tr>\n",
       "  </tbody>\n",
       "</table>\n",
       "<p>169 rows × 3 columns</p>\n",
       "</div>"
      ],
      "text/plain": [
       "                        start                       end  hour_count\n",
       "0   2021-12-03 14:34:40+00:00 2021-12-03 15:00:00+00:00        9516\n",
       "1   2021-12-03 15:00:00+00:00 2021-12-03 16:00:00+00:00       20940\n",
       "2   2021-12-03 16:00:00+00:00 2021-12-03 17:00:00+00:00       22906\n",
       "3   2021-12-03 17:00:00+00:00 2021-12-03 18:00:00+00:00       21803\n",
       "4   2021-12-03 18:00:00+00:00 2021-12-03 19:00:00+00:00       18866\n",
       "..                        ...                       ...         ...\n",
       "164 2021-12-10 10:00:00+00:00 2021-12-10 11:00:00+00:00       18095\n",
       "165 2021-12-10 11:00:00+00:00 2021-12-10 12:00:00+00:00       18443\n",
       "166 2021-12-10 12:00:00+00:00 2021-12-10 13:00:00+00:00       19812\n",
       "167 2021-12-10 13:00:00+00:00 2021-12-10 14:00:00+00:00       25656\n",
       "168 2021-12-10 14:00:00+00:00 2021-12-10 14:34:40+00:00       15599\n",
       "\n",
       "[169 rows x 3 columns]"
      ]
     },
     "execution_count": 63,
     "metadata": {},
     "output_type": "execute_result"
    }
   ],
   "source": [
    "tweet_counts_df = pd.read_csv('C:/Users/alexa/OneDrive/Documenten/data/tweets.csv', parse_dates=['start', 'end'])\n",
    "tweet_counts_df = tweet_counts_df.sort_values('start')\n",
    "tweet_counts_df"
   ]
  },
  {
   "cell_type": "code",
   "execution_count": 65,
   "id": "b0d6c816",
   "metadata": {},
   "outputs": [
    {
     "data": {
      "application/vnd.plotly.v1+json": {
       "config": {
        "plotlyServerURL": "https://plot.ly"
       },
       "data": [
        {
         "hovertemplate": "Time=%{x}<br>Tweets per Day=%{y}<extra></extra>",
         "legendgroup": "",
         "line": {
          "color": "#636efa",
          "dash": "solid"
         },
         "marker": {
          "symbol": "circle"
         },
         "mode": "lines",
         "name": "",
         "orientation": "v",
         "showlegend": false,
         "type": "scatter",
         "x": [
          "2021-12-03T14:34:40+00:00",
          "2021-12-03T15:00:00+00:00",
          "2021-12-03T16:00:00+00:00",
          "2021-12-03T17:00:00+00:00",
          "2021-12-03T18:00:00+00:00",
          "2021-12-03T19:00:00+00:00",
          "2021-12-03T20:00:00+00:00",
          "2021-12-03T21:00:00+00:00",
          "2021-12-03T22:00:00+00:00",
          "2021-12-03T23:00:00+00:00",
          "2021-12-04T00:00:00+00:00",
          "2021-12-04T01:00:00+00:00",
          "2021-12-04T02:00:00+00:00",
          "2021-12-04T03:00:00+00:00",
          "2021-12-04T04:00:00+00:00",
          "2021-12-04T05:00:00+00:00",
          "2021-12-04T06:00:00+00:00",
          "2021-12-04T07:00:00+00:00",
          "2021-12-04T08:00:00+00:00",
          "2021-12-04T09:00:00+00:00",
          "2021-12-04T10:00:00+00:00",
          "2021-12-04T11:00:00+00:00",
          "2021-12-04T12:00:00+00:00",
          "2021-12-04T13:00:00+00:00",
          "2021-12-04T14:00:00+00:00",
          "2021-12-04T15:00:00+00:00",
          "2021-12-04T16:00:00+00:00",
          "2021-12-04T17:00:00+00:00",
          "2021-12-04T18:00:00+00:00",
          "2021-12-04T19:00:00+00:00",
          "2021-12-04T20:00:00+00:00",
          "2021-12-04T21:00:00+00:00",
          "2021-12-04T22:00:00+00:00",
          "2021-12-04T23:00:00+00:00",
          "2021-12-05T00:00:00+00:00",
          "2021-12-05T01:00:00+00:00",
          "2021-12-05T02:00:00+00:00",
          "2021-12-05T03:00:00+00:00",
          "2021-12-05T04:00:00+00:00",
          "2021-12-05T05:00:00+00:00",
          "2021-12-05T06:00:00+00:00",
          "2021-12-05T07:00:00+00:00",
          "2021-12-05T08:00:00+00:00",
          "2021-12-05T09:00:00+00:00",
          "2021-12-05T10:00:00+00:00",
          "2021-12-05T11:00:00+00:00",
          "2021-12-05T12:00:00+00:00",
          "2021-12-05T13:00:00+00:00",
          "2021-12-05T14:00:00+00:00",
          "2021-12-05T15:00:00+00:00",
          "2021-12-05T16:00:00+00:00",
          "2021-12-05T17:00:00+00:00",
          "2021-12-05T18:00:00+00:00",
          "2021-12-05T19:00:00+00:00",
          "2021-12-05T20:00:00+00:00",
          "2021-12-05T21:00:00+00:00",
          "2021-12-05T22:00:00+00:00",
          "2021-12-05T23:00:00+00:00",
          "2021-12-06T00:00:00+00:00",
          "2021-12-06T01:00:00+00:00",
          "2021-12-06T02:00:00+00:00",
          "2021-12-06T03:00:00+00:00",
          "2021-12-06T04:00:00+00:00",
          "2021-12-06T05:00:00+00:00",
          "2021-12-06T06:00:00+00:00",
          "2021-12-06T07:00:00+00:00",
          "2021-12-06T08:00:00+00:00",
          "2021-12-06T09:00:00+00:00",
          "2021-12-06T10:00:00+00:00",
          "2021-12-06T11:00:00+00:00",
          "2021-12-06T12:00:00+00:00",
          "2021-12-06T13:00:00+00:00",
          "2021-12-06T14:00:00+00:00",
          "2021-12-06T15:00:00+00:00",
          "2021-12-06T16:00:00+00:00",
          "2021-12-06T17:00:00+00:00",
          "2021-12-06T18:00:00+00:00",
          "2021-12-06T19:00:00+00:00",
          "2021-12-06T20:00:00+00:00",
          "2021-12-06T21:00:00+00:00",
          "2021-12-06T22:00:00+00:00",
          "2021-12-06T23:00:00+00:00",
          "2021-12-07T00:00:00+00:00",
          "2021-12-07T01:00:00+00:00",
          "2021-12-07T02:00:00+00:00",
          "2021-12-07T03:00:00+00:00",
          "2021-12-07T04:00:00+00:00",
          "2021-12-07T05:00:00+00:00",
          "2021-12-07T06:00:00+00:00",
          "2021-12-07T07:00:00+00:00",
          "2021-12-07T08:00:00+00:00",
          "2021-12-07T09:00:00+00:00",
          "2021-12-07T10:00:00+00:00",
          "2021-12-07T11:00:00+00:00",
          "2021-12-07T12:00:00+00:00",
          "2021-12-07T13:00:00+00:00",
          "2021-12-07T14:00:00+00:00",
          "2021-12-07T15:00:00+00:00",
          "2021-12-07T16:00:00+00:00",
          "2021-12-07T17:00:00+00:00",
          "2021-12-07T18:00:00+00:00",
          "2021-12-07T19:00:00+00:00",
          "2021-12-07T20:00:00+00:00",
          "2021-12-07T21:00:00+00:00",
          "2021-12-07T22:00:00+00:00",
          "2021-12-07T23:00:00+00:00",
          "2021-12-08T00:00:00+00:00",
          "2021-12-08T01:00:00+00:00",
          "2021-12-08T02:00:00+00:00",
          "2021-12-08T03:00:00+00:00",
          "2021-12-08T04:00:00+00:00",
          "2021-12-08T05:00:00+00:00",
          "2021-12-08T06:00:00+00:00",
          "2021-12-08T07:00:00+00:00",
          "2021-12-08T08:00:00+00:00",
          "2021-12-08T09:00:00+00:00",
          "2021-12-08T10:00:00+00:00",
          "2021-12-08T11:00:00+00:00",
          "2021-12-08T12:00:00+00:00",
          "2021-12-08T13:00:00+00:00",
          "2021-12-08T14:00:00+00:00",
          "2021-12-08T15:00:00+00:00",
          "2021-12-08T16:00:00+00:00",
          "2021-12-08T17:00:00+00:00",
          "2021-12-08T18:00:00+00:00",
          "2021-12-08T19:00:00+00:00",
          "2021-12-08T20:00:00+00:00",
          "2021-12-08T21:00:00+00:00",
          "2021-12-08T22:00:00+00:00",
          "2021-12-08T23:00:00+00:00",
          "2021-12-09T00:00:00+00:00",
          "2021-12-09T01:00:00+00:00",
          "2021-12-09T02:00:00+00:00",
          "2021-12-09T03:00:00+00:00",
          "2021-12-09T04:00:00+00:00",
          "2021-12-09T05:00:00+00:00",
          "2021-12-09T06:00:00+00:00",
          "2021-12-09T07:00:00+00:00",
          "2021-12-09T08:00:00+00:00",
          "2021-12-09T09:00:00+00:00",
          "2021-12-09T10:00:00+00:00",
          "2021-12-09T11:00:00+00:00",
          "2021-12-09T12:00:00+00:00",
          "2021-12-09T13:00:00+00:00",
          "2021-12-09T14:00:00+00:00",
          "2021-12-09T15:00:00+00:00",
          "2021-12-09T16:00:00+00:00",
          "2021-12-09T17:00:00+00:00",
          "2021-12-09T18:00:00+00:00",
          "2021-12-09T19:00:00+00:00",
          "2021-12-09T20:00:00+00:00",
          "2021-12-09T21:00:00+00:00",
          "2021-12-09T22:00:00+00:00",
          "2021-12-09T23:00:00+00:00",
          "2021-12-10T00:00:00+00:00",
          "2021-12-10T01:00:00+00:00",
          "2021-12-10T02:00:00+00:00",
          "2021-12-10T03:00:00+00:00",
          "2021-12-10T04:00:00+00:00",
          "2021-12-10T05:00:00+00:00",
          "2021-12-10T06:00:00+00:00",
          "2021-12-10T07:00:00+00:00",
          "2021-12-10T08:00:00+00:00",
          "2021-12-10T09:00:00+00:00",
          "2021-12-10T10:00:00+00:00",
          "2021-12-10T11:00:00+00:00",
          "2021-12-10T12:00:00+00:00",
          "2021-12-10T13:00:00+00:00",
          "2021-12-10T14:00:00+00:00"
         ],
         "xaxis": "x",
         "y": [
          9516,
          20940,
          22906,
          21803,
          18866,
          18710,
          20945,
          17152,
          13295,
          11639,
          11260,
          14232,
          14054,
          13783,
          14482,
          26900,
          27992,
          29279,
          27657,
          25538,
          24214,
          25313,
          28202,
          28585,
          29043,
          30919,
          29831,
          27882,
          27322,
          24767,
          22579,
          18493,
          16655,
          16208,
          13807,
          14476,
          14042,
          14123,
          13586,
          15740,
          15017,
          16156,
          16962,
          15956,
          16651,
          17439,
          16790,
          18193,
          20029,
          22019,
          24901,
          21096,
          21354,
          21131,
          18669,
          15366,
          12641,
          12878,
          13216,
          14884,
          16355,
          18941,
          17021,
          19496,
          17709,
          17090,
          18819,
          17924,
          19004,
          22114,
          22527,
          22364,
          24341,
          23214,
          24463,
          26107,
          23232,
          21017,
          20452,
          19928,
          21504,
          19681,
          17759,
          17760,
          17739,
          16779,
          17490,
          18637,
          19902,
          20166,
          21040,
          19553,
          18767,
          20953,
          22457,
          23277,
          26550,
          25106,
          24644,
          23492,
          22936,
          22604,
          19692,
          18062,
          16320,
          15668,
          14219,
          14002,
          15007,
          14619,
          14289,
          15731,
          16814,
          18820,
          19746,
          18690,
          25121,
          24111,
          25192,
          26599,
          25308,
          24508,
          26027,
          23437,
          21250,
          19095,
          19394,
          16511,
          14543,
          13745,
          13008,
          13134,
          13706,
          14852,
          15681,
          15617,
          15667,
          15661,
          16991,
          16273,
          18177,
          17093,
          19723,
          25778,
          22900,
          26808,
          24795,
          21426,
          21091,
          20922,
          27802,
          20520,
          17324,
          16410,
          15364,
          14195,
          14095,
          14330,
          13909,
          15152,
          15250,
          15266,
          18257,
          19538,
          18095,
          18443,
          19812,
          25656,
          15599
         ],
         "yaxis": "y"
        }
       ],
       "layout": {
        "legend": {
         "tracegroupgap": 0
        },
        "template": {
         "data": {
          "bar": [
           {
            "error_x": {
             "color": "#2a3f5f"
            },
            "error_y": {
             "color": "#2a3f5f"
            },
            "marker": {
             "line": {
              "color": "#E5ECF6",
              "width": 0.5
             },
             "pattern": {
              "fillmode": "overlay",
              "size": 10,
              "solidity": 0.2
             }
            },
            "type": "bar"
           }
          ],
          "barpolar": [
           {
            "marker": {
             "line": {
              "color": "#E5ECF6",
              "width": 0.5
             },
             "pattern": {
              "fillmode": "overlay",
              "size": 10,
              "solidity": 0.2
             }
            },
            "type": "barpolar"
           }
          ],
          "carpet": [
           {
            "aaxis": {
             "endlinecolor": "#2a3f5f",
             "gridcolor": "white",
             "linecolor": "white",
             "minorgridcolor": "white",
             "startlinecolor": "#2a3f5f"
            },
            "baxis": {
             "endlinecolor": "#2a3f5f",
             "gridcolor": "white",
             "linecolor": "white",
             "minorgridcolor": "white",
             "startlinecolor": "#2a3f5f"
            },
            "type": "carpet"
           }
          ],
          "choropleth": [
           {
            "colorbar": {
             "outlinewidth": 0,
             "ticks": ""
            },
            "type": "choropleth"
           }
          ],
          "contour": [
           {
            "colorbar": {
             "outlinewidth": 0,
             "ticks": ""
            },
            "colorscale": [
             [
              0,
              "#0d0887"
             ],
             [
              0.1111111111111111,
              "#46039f"
             ],
             [
              0.2222222222222222,
              "#7201a8"
             ],
             [
              0.3333333333333333,
              "#9c179e"
             ],
             [
              0.4444444444444444,
              "#bd3786"
             ],
             [
              0.5555555555555556,
              "#d8576b"
             ],
             [
              0.6666666666666666,
              "#ed7953"
             ],
             [
              0.7777777777777778,
              "#fb9f3a"
             ],
             [
              0.8888888888888888,
              "#fdca26"
             ],
             [
              1,
              "#f0f921"
             ]
            ],
            "type": "contour"
           }
          ],
          "contourcarpet": [
           {
            "colorbar": {
             "outlinewidth": 0,
             "ticks": ""
            },
            "type": "contourcarpet"
           }
          ],
          "heatmap": [
           {
            "colorbar": {
             "outlinewidth": 0,
             "ticks": ""
            },
            "colorscale": [
             [
              0,
              "#0d0887"
             ],
             [
              0.1111111111111111,
              "#46039f"
             ],
             [
              0.2222222222222222,
              "#7201a8"
             ],
             [
              0.3333333333333333,
              "#9c179e"
             ],
             [
              0.4444444444444444,
              "#bd3786"
             ],
             [
              0.5555555555555556,
              "#d8576b"
             ],
             [
              0.6666666666666666,
              "#ed7953"
             ],
             [
              0.7777777777777778,
              "#fb9f3a"
             ],
             [
              0.8888888888888888,
              "#fdca26"
             ],
             [
              1,
              "#f0f921"
             ]
            ],
            "type": "heatmap"
           }
          ],
          "heatmapgl": [
           {
            "colorbar": {
             "outlinewidth": 0,
             "ticks": ""
            },
            "colorscale": [
             [
              0,
              "#0d0887"
             ],
             [
              0.1111111111111111,
              "#46039f"
             ],
             [
              0.2222222222222222,
              "#7201a8"
             ],
             [
              0.3333333333333333,
              "#9c179e"
             ],
             [
              0.4444444444444444,
              "#bd3786"
             ],
             [
              0.5555555555555556,
              "#d8576b"
             ],
             [
              0.6666666666666666,
              "#ed7953"
             ],
             [
              0.7777777777777778,
              "#fb9f3a"
             ],
             [
              0.8888888888888888,
              "#fdca26"
             ],
             [
              1,
              "#f0f921"
             ]
            ],
            "type": "heatmapgl"
           }
          ],
          "histogram": [
           {
            "marker": {
             "pattern": {
              "fillmode": "overlay",
              "size": 10,
              "solidity": 0.2
             }
            },
            "type": "histogram"
           }
          ],
          "histogram2d": [
           {
            "colorbar": {
             "outlinewidth": 0,
             "ticks": ""
            },
            "colorscale": [
             [
              0,
              "#0d0887"
             ],
             [
              0.1111111111111111,
              "#46039f"
             ],
             [
              0.2222222222222222,
              "#7201a8"
             ],
             [
              0.3333333333333333,
              "#9c179e"
             ],
             [
              0.4444444444444444,
              "#bd3786"
             ],
             [
              0.5555555555555556,
              "#d8576b"
             ],
             [
              0.6666666666666666,
              "#ed7953"
             ],
             [
              0.7777777777777778,
              "#fb9f3a"
             ],
             [
              0.8888888888888888,
              "#fdca26"
             ],
             [
              1,
              "#f0f921"
             ]
            ],
            "type": "histogram2d"
           }
          ],
          "histogram2dcontour": [
           {
            "colorbar": {
             "outlinewidth": 0,
             "ticks": ""
            },
            "colorscale": [
             [
              0,
              "#0d0887"
             ],
             [
              0.1111111111111111,
              "#46039f"
             ],
             [
              0.2222222222222222,
              "#7201a8"
             ],
             [
              0.3333333333333333,
              "#9c179e"
             ],
             [
              0.4444444444444444,
              "#bd3786"
             ],
             [
              0.5555555555555556,
              "#d8576b"
             ],
             [
              0.6666666666666666,
              "#ed7953"
             ],
             [
              0.7777777777777778,
              "#fb9f3a"
             ],
             [
              0.8888888888888888,
              "#fdca26"
             ],
             [
              1,
              "#f0f921"
             ]
            ],
            "type": "histogram2dcontour"
           }
          ],
          "mesh3d": [
           {
            "colorbar": {
             "outlinewidth": 0,
             "ticks": ""
            },
            "type": "mesh3d"
           }
          ],
          "parcoords": [
           {
            "line": {
             "colorbar": {
              "outlinewidth": 0,
              "ticks": ""
             }
            },
            "type": "parcoords"
           }
          ],
          "pie": [
           {
            "automargin": true,
            "type": "pie"
           }
          ],
          "scatter": [
           {
            "marker": {
             "colorbar": {
              "outlinewidth": 0,
              "ticks": ""
             }
            },
            "type": "scatter"
           }
          ],
          "scatter3d": [
           {
            "line": {
             "colorbar": {
              "outlinewidth": 0,
              "ticks": ""
             }
            },
            "marker": {
             "colorbar": {
              "outlinewidth": 0,
              "ticks": ""
             }
            },
            "type": "scatter3d"
           }
          ],
          "scattercarpet": [
           {
            "marker": {
             "colorbar": {
              "outlinewidth": 0,
              "ticks": ""
             }
            },
            "type": "scattercarpet"
           }
          ],
          "scattergeo": [
           {
            "marker": {
             "colorbar": {
              "outlinewidth": 0,
              "ticks": ""
             }
            },
            "type": "scattergeo"
           }
          ],
          "scattergl": [
           {
            "marker": {
             "colorbar": {
              "outlinewidth": 0,
              "ticks": ""
             }
            },
            "type": "scattergl"
           }
          ],
          "scattermapbox": [
           {
            "marker": {
             "colorbar": {
              "outlinewidth": 0,
              "ticks": ""
             }
            },
            "type": "scattermapbox"
           }
          ],
          "scatterpolar": [
           {
            "marker": {
             "colorbar": {
              "outlinewidth": 0,
              "ticks": ""
             }
            },
            "type": "scatterpolar"
           }
          ],
          "scatterpolargl": [
           {
            "marker": {
             "colorbar": {
              "outlinewidth": 0,
              "ticks": ""
             }
            },
            "type": "scatterpolargl"
           }
          ],
          "scatterternary": [
           {
            "marker": {
             "colorbar": {
              "outlinewidth": 0,
              "ticks": ""
             }
            },
            "type": "scatterternary"
           }
          ],
          "surface": [
           {
            "colorbar": {
             "outlinewidth": 0,
             "ticks": ""
            },
            "colorscale": [
             [
              0,
              "#0d0887"
             ],
             [
              0.1111111111111111,
              "#46039f"
             ],
             [
              0.2222222222222222,
              "#7201a8"
             ],
             [
              0.3333333333333333,
              "#9c179e"
             ],
             [
              0.4444444444444444,
              "#bd3786"
             ],
             [
              0.5555555555555556,
              "#d8576b"
             ],
             [
              0.6666666666666666,
              "#ed7953"
             ],
             [
              0.7777777777777778,
              "#fb9f3a"
             ],
             [
              0.8888888888888888,
              "#fdca26"
             ],
             [
              1,
              "#f0f921"
             ]
            ],
            "type": "surface"
           }
          ],
          "table": [
           {
            "cells": {
             "fill": {
              "color": "#EBF0F8"
             },
             "line": {
              "color": "white"
             }
            },
            "header": {
             "fill": {
              "color": "#C8D4E3"
             },
             "line": {
              "color": "white"
             }
            },
            "type": "table"
           }
          ]
         },
         "layout": {
          "annotationdefaults": {
           "arrowcolor": "#2a3f5f",
           "arrowhead": 0,
           "arrowwidth": 1
          },
          "autotypenumbers": "strict",
          "coloraxis": {
           "colorbar": {
            "outlinewidth": 0,
            "ticks": ""
           }
          },
          "colorscale": {
           "diverging": [
            [
             0,
             "#8e0152"
            ],
            [
             0.1,
             "#c51b7d"
            ],
            [
             0.2,
             "#de77ae"
            ],
            [
             0.3,
             "#f1b6da"
            ],
            [
             0.4,
             "#fde0ef"
            ],
            [
             0.5,
             "#f7f7f7"
            ],
            [
             0.6,
             "#e6f5d0"
            ],
            [
             0.7,
             "#b8e186"
            ],
            [
             0.8,
             "#7fbc41"
            ],
            [
             0.9,
             "#4d9221"
            ],
            [
             1,
             "#276419"
            ]
           ],
           "sequential": [
            [
             0,
             "#0d0887"
            ],
            [
             0.1111111111111111,
             "#46039f"
            ],
            [
             0.2222222222222222,
             "#7201a8"
            ],
            [
             0.3333333333333333,
             "#9c179e"
            ],
            [
             0.4444444444444444,
             "#bd3786"
            ],
            [
             0.5555555555555556,
             "#d8576b"
            ],
            [
             0.6666666666666666,
             "#ed7953"
            ],
            [
             0.7777777777777778,
             "#fb9f3a"
            ],
            [
             0.8888888888888888,
             "#fdca26"
            ],
            [
             1,
             "#f0f921"
            ]
           ],
           "sequentialminus": [
            [
             0,
             "#0d0887"
            ],
            [
             0.1111111111111111,
             "#46039f"
            ],
            [
             0.2222222222222222,
             "#7201a8"
            ],
            [
             0.3333333333333333,
             "#9c179e"
            ],
            [
             0.4444444444444444,
             "#bd3786"
            ],
            [
             0.5555555555555556,
             "#d8576b"
            ],
            [
             0.6666666666666666,
             "#ed7953"
            ],
            [
             0.7777777777777778,
             "#fb9f3a"
            ],
            [
             0.8888888888888888,
             "#fdca26"
            ],
            [
             1,
             "#f0f921"
            ]
           ]
          },
          "colorway": [
           "#636efa",
           "#EF553B",
           "#00cc96",
           "#ab63fa",
           "#FFA15A",
           "#19d3f3",
           "#FF6692",
           "#B6E880",
           "#FF97FF",
           "#FECB52"
          ],
          "font": {
           "color": "#2a3f5f"
          },
          "geo": {
           "bgcolor": "white",
           "lakecolor": "white",
           "landcolor": "#E5ECF6",
           "showlakes": true,
           "showland": true,
           "subunitcolor": "white"
          },
          "hoverlabel": {
           "align": "left"
          },
          "hovermode": "closest",
          "mapbox": {
           "style": "light"
          },
          "paper_bgcolor": "white",
          "plot_bgcolor": "#E5ECF6",
          "polar": {
           "angularaxis": {
            "gridcolor": "white",
            "linecolor": "white",
            "ticks": ""
           },
           "bgcolor": "#E5ECF6",
           "radialaxis": {
            "gridcolor": "white",
            "linecolor": "white",
            "ticks": ""
           }
          },
          "scene": {
           "xaxis": {
            "backgroundcolor": "#E5ECF6",
            "gridcolor": "white",
            "gridwidth": 2,
            "linecolor": "white",
            "showbackground": true,
            "ticks": "",
            "zerolinecolor": "white"
           },
           "yaxis": {
            "backgroundcolor": "#E5ECF6",
            "gridcolor": "white",
            "gridwidth": 2,
            "linecolor": "white",
            "showbackground": true,
            "ticks": "",
            "zerolinecolor": "white"
           },
           "zaxis": {
            "backgroundcolor": "#E5ECF6",
            "gridcolor": "white",
            "gridwidth": 2,
            "linecolor": "white",
            "showbackground": true,
            "ticks": "",
            "zerolinecolor": "white"
           }
          },
          "shapedefaults": {
           "line": {
            "color": "#2a3f5f"
           }
          },
          "ternary": {
           "aaxis": {
            "gridcolor": "white",
            "linecolor": "white",
            "ticks": ""
           },
           "baxis": {
            "gridcolor": "white",
            "linecolor": "white",
            "ticks": ""
           },
           "bgcolor": "#E5ECF6",
           "caxis": {
            "gridcolor": "white",
            "linecolor": "white",
            "ticks": ""
           }
          },
          "title": {
           "x": 0.05
          },
          "xaxis": {
           "automargin": true,
           "gridcolor": "white",
           "linecolor": "white",
           "ticks": "",
           "title": {
            "standoff": 15
           },
           "zerolinecolor": "white",
           "zerolinewidth": 2
          },
          "yaxis": {
           "automargin": true,
           "gridcolor": "white",
           "linecolor": "white",
           "ticks": "",
           "title": {
            "standoff": 15
           },
           "zerolinecolor": "white",
           "zerolinewidth": 2
          }
         }
        },
        "title": {
         "text": "Bitcoin Tweets"
        },
        "xaxis": {
         "anchor": "y",
         "domain": [
          0,
          1
         ],
         "title": {
          "text": "Time"
         }
        },
        "yaxis": {
         "anchor": "x",
         "domain": [
          0,
          1
         ],
         "title": {
          "text": "Tweets per Day"
         }
        }
       }
      },
      "text/html": [
       "<div>                            <div id=\"0660a378-b814-4b41-bec5-43234d0fa78e\" class=\"plotly-graph-div\" style=\"height:525px; width:100%;\"></div>            <script type=\"text/javascript\">                require([\"plotly\"], function(Plotly) {                    window.PLOTLYENV=window.PLOTLYENV || {};                                    if (document.getElementById(\"0660a378-b814-4b41-bec5-43234d0fa78e\")) {                    Plotly.newPlot(                        \"0660a378-b814-4b41-bec5-43234d0fa78e\",                        [{\"hovertemplate\":\"Time=%{x}<br>Tweets per Day=%{y}<extra></extra>\",\"legendgroup\":\"\",\"line\":{\"color\":\"#636efa\",\"dash\":\"solid\"},\"marker\":{\"symbol\":\"circle\"},\"mode\":\"lines\",\"name\":\"\",\"orientation\":\"v\",\"showlegend\":false,\"x\":[\"2021-12-03T14:34:40+00:00\",\"2021-12-03T15:00:00+00:00\",\"2021-12-03T16:00:00+00:00\",\"2021-12-03T17:00:00+00:00\",\"2021-12-03T18:00:00+00:00\",\"2021-12-03T19:00:00+00:00\",\"2021-12-03T20:00:00+00:00\",\"2021-12-03T21:00:00+00:00\",\"2021-12-03T22:00:00+00:00\",\"2021-12-03T23:00:00+00:00\",\"2021-12-04T00:00:00+00:00\",\"2021-12-04T01:00:00+00:00\",\"2021-12-04T02:00:00+00:00\",\"2021-12-04T03:00:00+00:00\",\"2021-12-04T04:00:00+00:00\",\"2021-12-04T05:00:00+00:00\",\"2021-12-04T06:00:00+00:00\",\"2021-12-04T07:00:00+00:00\",\"2021-12-04T08:00:00+00:00\",\"2021-12-04T09:00:00+00:00\",\"2021-12-04T10:00:00+00:00\",\"2021-12-04T11:00:00+00:00\",\"2021-12-04T12:00:00+00:00\",\"2021-12-04T13:00:00+00:00\",\"2021-12-04T14:00:00+00:00\",\"2021-12-04T15:00:00+00:00\",\"2021-12-04T16:00:00+00:00\",\"2021-12-04T17:00:00+00:00\",\"2021-12-04T18:00:00+00:00\",\"2021-12-04T19:00:00+00:00\",\"2021-12-04T20:00:00+00:00\",\"2021-12-04T21:00:00+00:00\",\"2021-12-04T22:00:00+00:00\",\"2021-12-04T23:00:00+00:00\",\"2021-12-05T00:00:00+00:00\",\"2021-12-05T01:00:00+00:00\",\"2021-12-05T02:00:00+00:00\",\"2021-12-05T03:00:00+00:00\",\"2021-12-05T04:00:00+00:00\",\"2021-12-05T05:00:00+00:00\",\"2021-12-05T06:00:00+00:00\",\"2021-12-05T07:00:00+00:00\",\"2021-12-05T08:00:00+00:00\",\"2021-12-05T09:00:00+00:00\",\"2021-12-05T10:00:00+00:00\",\"2021-12-05T11:00:00+00:00\",\"2021-12-05T12:00:00+00:00\",\"2021-12-05T13:00:00+00:00\",\"2021-12-05T14:00:00+00:00\",\"2021-12-05T15:00:00+00:00\",\"2021-12-05T16:00:00+00:00\",\"2021-12-05T17:00:00+00:00\",\"2021-12-05T18:00:00+00:00\",\"2021-12-05T19:00:00+00:00\",\"2021-12-05T20:00:00+00:00\",\"2021-12-05T21:00:00+00:00\",\"2021-12-05T22:00:00+00:00\",\"2021-12-05T23:00:00+00:00\",\"2021-12-06T00:00:00+00:00\",\"2021-12-06T01:00:00+00:00\",\"2021-12-06T02:00:00+00:00\",\"2021-12-06T03:00:00+00:00\",\"2021-12-06T04:00:00+00:00\",\"2021-12-06T05:00:00+00:00\",\"2021-12-06T06:00:00+00:00\",\"2021-12-06T07:00:00+00:00\",\"2021-12-06T08:00:00+00:00\",\"2021-12-06T09:00:00+00:00\",\"2021-12-06T10:00:00+00:00\",\"2021-12-06T11:00:00+00:00\",\"2021-12-06T12:00:00+00:00\",\"2021-12-06T13:00:00+00:00\",\"2021-12-06T14:00:00+00:00\",\"2021-12-06T15:00:00+00:00\",\"2021-12-06T16:00:00+00:00\",\"2021-12-06T17:00:00+00:00\",\"2021-12-06T18:00:00+00:00\",\"2021-12-06T19:00:00+00:00\",\"2021-12-06T20:00:00+00:00\",\"2021-12-06T21:00:00+00:00\",\"2021-12-06T22:00:00+00:00\",\"2021-12-06T23:00:00+00:00\",\"2021-12-07T00:00:00+00:00\",\"2021-12-07T01:00:00+00:00\",\"2021-12-07T02:00:00+00:00\",\"2021-12-07T03:00:00+00:00\",\"2021-12-07T04:00:00+00:00\",\"2021-12-07T05:00:00+00:00\",\"2021-12-07T06:00:00+00:00\",\"2021-12-07T07:00:00+00:00\",\"2021-12-07T08:00:00+00:00\",\"2021-12-07T09:00:00+00:00\",\"2021-12-07T10:00:00+00:00\",\"2021-12-07T11:00:00+00:00\",\"2021-12-07T12:00:00+00:00\",\"2021-12-07T13:00:00+00:00\",\"2021-12-07T14:00:00+00:00\",\"2021-12-07T15:00:00+00:00\",\"2021-12-07T16:00:00+00:00\",\"2021-12-07T17:00:00+00:00\",\"2021-12-07T18:00:00+00:00\",\"2021-12-07T19:00:00+00:00\",\"2021-12-07T20:00:00+00:00\",\"2021-12-07T21:00:00+00:00\",\"2021-12-07T22:00:00+00:00\",\"2021-12-07T23:00:00+00:00\",\"2021-12-08T00:00:00+00:00\",\"2021-12-08T01:00:00+00:00\",\"2021-12-08T02:00:00+00:00\",\"2021-12-08T03:00:00+00:00\",\"2021-12-08T04:00:00+00:00\",\"2021-12-08T05:00:00+00:00\",\"2021-12-08T06:00:00+00:00\",\"2021-12-08T07:00:00+00:00\",\"2021-12-08T08:00:00+00:00\",\"2021-12-08T09:00:00+00:00\",\"2021-12-08T10:00:00+00:00\",\"2021-12-08T11:00:00+00:00\",\"2021-12-08T12:00:00+00:00\",\"2021-12-08T13:00:00+00:00\",\"2021-12-08T14:00:00+00:00\",\"2021-12-08T15:00:00+00:00\",\"2021-12-08T16:00:00+00:00\",\"2021-12-08T17:00:00+00:00\",\"2021-12-08T18:00:00+00:00\",\"2021-12-08T19:00:00+00:00\",\"2021-12-08T20:00:00+00:00\",\"2021-12-08T21:00:00+00:00\",\"2021-12-08T22:00:00+00:00\",\"2021-12-08T23:00:00+00:00\",\"2021-12-09T00:00:00+00:00\",\"2021-12-09T01:00:00+00:00\",\"2021-12-09T02:00:00+00:00\",\"2021-12-09T03:00:00+00:00\",\"2021-12-09T04:00:00+00:00\",\"2021-12-09T05:00:00+00:00\",\"2021-12-09T06:00:00+00:00\",\"2021-12-09T07:00:00+00:00\",\"2021-12-09T08:00:00+00:00\",\"2021-12-09T09:00:00+00:00\",\"2021-12-09T10:00:00+00:00\",\"2021-12-09T11:00:00+00:00\",\"2021-12-09T12:00:00+00:00\",\"2021-12-09T13:00:00+00:00\",\"2021-12-09T14:00:00+00:00\",\"2021-12-09T15:00:00+00:00\",\"2021-12-09T16:00:00+00:00\",\"2021-12-09T17:00:00+00:00\",\"2021-12-09T18:00:00+00:00\",\"2021-12-09T19:00:00+00:00\",\"2021-12-09T20:00:00+00:00\",\"2021-12-09T21:00:00+00:00\",\"2021-12-09T22:00:00+00:00\",\"2021-12-09T23:00:00+00:00\",\"2021-12-10T00:00:00+00:00\",\"2021-12-10T01:00:00+00:00\",\"2021-12-10T02:00:00+00:00\",\"2021-12-10T03:00:00+00:00\",\"2021-12-10T04:00:00+00:00\",\"2021-12-10T05:00:00+00:00\",\"2021-12-10T06:00:00+00:00\",\"2021-12-10T07:00:00+00:00\",\"2021-12-10T08:00:00+00:00\",\"2021-12-10T09:00:00+00:00\",\"2021-12-10T10:00:00+00:00\",\"2021-12-10T11:00:00+00:00\",\"2021-12-10T12:00:00+00:00\",\"2021-12-10T13:00:00+00:00\",\"2021-12-10T14:00:00+00:00\"],\"xaxis\":\"x\",\"y\":[9516,20940,22906,21803,18866,18710,20945,17152,13295,11639,11260,14232,14054,13783,14482,26900,27992,29279,27657,25538,24214,25313,28202,28585,29043,30919,29831,27882,27322,24767,22579,18493,16655,16208,13807,14476,14042,14123,13586,15740,15017,16156,16962,15956,16651,17439,16790,18193,20029,22019,24901,21096,21354,21131,18669,15366,12641,12878,13216,14884,16355,18941,17021,19496,17709,17090,18819,17924,19004,22114,22527,22364,24341,23214,24463,26107,23232,21017,20452,19928,21504,19681,17759,17760,17739,16779,17490,18637,19902,20166,21040,19553,18767,20953,22457,23277,26550,25106,24644,23492,22936,22604,19692,18062,16320,15668,14219,14002,15007,14619,14289,15731,16814,18820,19746,18690,25121,24111,25192,26599,25308,24508,26027,23437,21250,19095,19394,16511,14543,13745,13008,13134,13706,14852,15681,15617,15667,15661,16991,16273,18177,17093,19723,25778,22900,26808,24795,21426,21091,20922,27802,20520,17324,16410,15364,14195,14095,14330,13909,15152,15250,15266,18257,19538,18095,18443,19812,25656,15599],\"yaxis\":\"y\",\"type\":\"scatter\"}],                        {\"template\":{\"data\":{\"bar\":[{\"error_x\":{\"color\":\"#2a3f5f\"},\"error_y\":{\"color\":\"#2a3f5f\"},\"marker\":{\"line\":{\"color\":\"#E5ECF6\",\"width\":0.5},\"pattern\":{\"fillmode\":\"overlay\",\"size\":10,\"solidity\":0.2}},\"type\":\"bar\"}],\"barpolar\":[{\"marker\":{\"line\":{\"color\":\"#E5ECF6\",\"width\":0.5},\"pattern\":{\"fillmode\":\"overlay\",\"size\":10,\"solidity\":0.2}},\"type\":\"barpolar\"}],\"carpet\":[{\"aaxis\":{\"endlinecolor\":\"#2a3f5f\",\"gridcolor\":\"white\",\"linecolor\":\"white\",\"minorgridcolor\":\"white\",\"startlinecolor\":\"#2a3f5f\"},\"baxis\":{\"endlinecolor\":\"#2a3f5f\",\"gridcolor\":\"white\",\"linecolor\":\"white\",\"minorgridcolor\":\"white\",\"startlinecolor\":\"#2a3f5f\"},\"type\":\"carpet\"}],\"choropleth\":[{\"colorbar\":{\"outlinewidth\":0,\"ticks\":\"\"},\"type\":\"choropleth\"}],\"contour\":[{\"colorbar\":{\"outlinewidth\":0,\"ticks\":\"\"},\"colorscale\":[[0.0,\"#0d0887\"],[0.1111111111111111,\"#46039f\"],[0.2222222222222222,\"#7201a8\"],[0.3333333333333333,\"#9c179e\"],[0.4444444444444444,\"#bd3786\"],[0.5555555555555556,\"#d8576b\"],[0.6666666666666666,\"#ed7953\"],[0.7777777777777778,\"#fb9f3a\"],[0.8888888888888888,\"#fdca26\"],[1.0,\"#f0f921\"]],\"type\":\"contour\"}],\"contourcarpet\":[{\"colorbar\":{\"outlinewidth\":0,\"ticks\":\"\"},\"type\":\"contourcarpet\"}],\"heatmap\":[{\"colorbar\":{\"outlinewidth\":0,\"ticks\":\"\"},\"colorscale\":[[0.0,\"#0d0887\"],[0.1111111111111111,\"#46039f\"],[0.2222222222222222,\"#7201a8\"],[0.3333333333333333,\"#9c179e\"],[0.4444444444444444,\"#bd3786\"],[0.5555555555555556,\"#d8576b\"],[0.6666666666666666,\"#ed7953\"],[0.7777777777777778,\"#fb9f3a\"],[0.8888888888888888,\"#fdca26\"],[1.0,\"#f0f921\"]],\"type\":\"heatmap\"}],\"heatmapgl\":[{\"colorbar\":{\"outlinewidth\":0,\"ticks\":\"\"},\"colorscale\":[[0.0,\"#0d0887\"],[0.1111111111111111,\"#46039f\"],[0.2222222222222222,\"#7201a8\"],[0.3333333333333333,\"#9c179e\"],[0.4444444444444444,\"#bd3786\"],[0.5555555555555556,\"#d8576b\"],[0.6666666666666666,\"#ed7953\"],[0.7777777777777778,\"#fb9f3a\"],[0.8888888888888888,\"#fdca26\"],[1.0,\"#f0f921\"]],\"type\":\"heatmapgl\"}],\"histogram\":[{\"marker\":{\"pattern\":{\"fillmode\":\"overlay\",\"size\":10,\"solidity\":0.2}},\"type\":\"histogram\"}],\"histogram2d\":[{\"colorbar\":{\"outlinewidth\":0,\"ticks\":\"\"},\"colorscale\":[[0.0,\"#0d0887\"],[0.1111111111111111,\"#46039f\"],[0.2222222222222222,\"#7201a8\"],[0.3333333333333333,\"#9c179e\"],[0.4444444444444444,\"#bd3786\"],[0.5555555555555556,\"#d8576b\"],[0.6666666666666666,\"#ed7953\"],[0.7777777777777778,\"#fb9f3a\"],[0.8888888888888888,\"#fdca26\"],[1.0,\"#f0f921\"]],\"type\":\"histogram2d\"}],\"histogram2dcontour\":[{\"colorbar\":{\"outlinewidth\":0,\"ticks\":\"\"},\"colorscale\":[[0.0,\"#0d0887\"],[0.1111111111111111,\"#46039f\"],[0.2222222222222222,\"#7201a8\"],[0.3333333333333333,\"#9c179e\"],[0.4444444444444444,\"#bd3786\"],[0.5555555555555556,\"#d8576b\"],[0.6666666666666666,\"#ed7953\"],[0.7777777777777778,\"#fb9f3a\"],[0.8888888888888888,\"#fdca26\"],[1.0,\"#f0f921\"]],\"type\":\"histogram2dcontour\"}],\"mesh3d\":[{\"colorbar\":{\"outlinewidth\":0,\"ticks\":\"\"},\"type\":\"mesh3d\"}],\"parcoords\":[{\"line\":{\"colorbar\":{\"outlinewidth\":0,\"ticks\":\"\"}},\"type\":\"parcoords\"}],\"pie\":[{\"automargin\":true,\"type\":\"pie\"}],\"scatter\":[{\"marker\":{\"colorbar\":{\"outlinewidth\":0,\"ticks\":\"\"}},\"type\":\"scatter\"}],\"scatter3d\":[{\"line\":{\"colorbar\":{\"outlinewidth\":0,\"ticks\":\"\"}},\"marker\":{\"colorbar\":{\"outlinewidth\":0,\"ticks\":\"\"}},\"type\":\"scatter3d\"}],\"scattercarpet\":[{\"marker\":{\"colorbar\":{\"outlinewidth\":0,\"ticks\":\"\"}},\"type\":\"scattercarpet\"}],\"scattergeo\":[{\"marker\":{\"colorbar\":{\"outlinewidth\":0,\"ticks\":\"\"}},\"type\":\"scattergeo\"}],\"scattergl\":[{\"marker\":{\"colorbar\":{\"outlinewidth\":0,\"ticks\":\"\"}},\"type\":\"scattergl\"}],\"scattermapbox\":[{\"marker\":{\"colorbar\":{\"outlinewidth\":0,\"ticks\":\"\"}},\"type\":\"scattermapbox\"}],\"scatterpolar\":[{\"marker\":{\"colorbar\":{\"outlinewidth\":0,\"ticks\":\"\"}},\"type\":\"scatterpolar\"}],\"scatterpolargl\":[{\"marker\":{\"colorbar\":{\"outlinewidth\":0,\"ticks\":\"\"}},\"type\":\"scatterpolargl\"}],\"scatterternary\":[{\"marker\":{\"colorbar\":{\"outlinewidth\":0,\"ticks\":\"\"}},\"type\":\"scatterternary\"}],\"surface\":[{\"colorbar\":{\"outlinewidth\":0,\"ticks\":\"\"},\"colorscale\":[[0.0,\"#0d0887\"],[0.1111111111111111,\"#46039f\"],[0.2222222222222222,\"#7201a8\"],[0.3333333333333333,\"#9c179e\"],[0.4444444444444444,\"#bd3786\"],[0.5555555555555556,\"#d8576b\"],[0.6666666666666666,\"#ed7953\"],[0.7777777777777778,\"#fb9f3a\"],[0.8888888888888888,\"#fdca26\"],[1.0,\"#f0f921\"]],\"type\":\"surface\"}],\"table\":[{\"cells\":{\"fill\":{\"color\":\"#EBF0F8\"},\"line\":{\"color\":\"white\"}},\"header\":{\"fill\":{\"color\":\"#C8D4E3\"},\"line\":{\"color\":\"white\"}},\"type\":\"table\"}]},\"layout\":{\"annotationdefaults\":{\"arrowcolor\":\"#2a3f5f\",\"arrowhead\":0,\"arrowwidth\":1},\"autotypenumbers\":\"strict\",\"coloraxis\":{\"colorbar\":{\"outlinewidth\":0,\"ticks\":\"\"}},\"colorscale\":{\"diverging\":[[0,\"#8e0152\"],[0.1,\"#c51b7d\"],[0.2,\"#de77ae\"],[0.3,\"#f1b6da\"],[0.4,\"#fde0ef\"],[0.5,\"#f7f7f7\"],[0.6,\"#e6f5d0\"],[0.7,\"#b8e186\"],[0.8,\"#7fbc41\"],[0.9,\"#4d9221\"],[1,\"#276419\"]],\"sequential\":[[0.0,\"#0d0887\"],[0.1111111111111111,\"#46039f\"],[0.2222222222222222,\"#7201a8\"],[0.3333333333333333,\"#9c179e\"],[0.4444444444444444,\"#bd3786\"],[0.5555555555555556,\"#d8576b\"],[0.6666666666666666,\"#ed7953\"],[0.7777777777777778,\"#fb9f3a\"],[0.8888888888888888,\"#fdca26\"],[1.0,\"#f0f921\"]],\"sequentialminus\":[[0.0,\"#0d0887\"],[0.1111111111111111,\"#46039f\"],[0.2222222222222222,\"#7201a8\"],[0.3333333333333333,\"#9c179e\"],[0.4444444444444444,\"#bd3786\"],[0.5555555555555556,\"#d8576b\"],[0.6666666666666666,\"#ed7953\"],[0.7777777777777778,\"#fb9f3a\"],[0.8888888888888888,\"#fdca26\"],[1.0,\"#f0f921\"]]},\"colorway\":[\"#636efa\",\"#EF553B\",\"#00cc96\",\"#ab63fa\",\"#FFA15A\",\"#19d3f3\",\"#FF6692\",\"#B6E880\",\"#FF97FF\",\"#FECB52\"],\"font\":{\"color\":\"#2a3f5f\"},\"geo\":{\"bgcolor\":\"white\",\"lakecolor\":\"white\",\"landcolor\":\"#E5ECF6\",\"showlakes\":true,\"showland\":true,\"subunitcolor\":\"white\"},\"hoverlabel\":{\"align\":\"left\"},\"hovermode\":\"closest\",\"mapbox\":{\"style\":\"light\"},\"paper_bgcolor\":\"white\",\"plot_bgcolor\":\"#E5ECF6\",\"polar\":{\"angularaxis\":{\"gridcolor\":\"white\",\"linecolor\":\"white\",\"ticks\":\"\"},\"bgcolor\":\"#E5ECF6\",\"radialaxis\":{\"gridcolor\":\"white\",\"linecolor\":\"white\",\"ticks\":\"\"}},\"scene\":{\"xaxis\":{\"backgroundcolor\":\"#E5ECF6\",\"gridcolor\":\"white\",\"gridwidth\":2,\"linecolor\":\"white\",\"showbackground\":true,\"ticks\":\"\",\"zerolinecolor\":\"white\"},\"yaxis\":{\"backgroundcolor\":\"#E5ECF6\",\"gridcolor\":\"white\",\"gridwidth\":2,\"linecolor\":\"white\",\"showbackground\":true,\"ticks\":\"\",\"zerolinecolor\":\"white\"},\"zaxis\":{\"backgroundcolor\":\"#E5ECF6\",\"gridcolor\":\"white\",\"gridwidth\":2,\"linecolor\":\"white\",\"showbackground\":true,\"ticks\":\"\",\"zerolinecolor\":\"white\"}},\"shapedefaults\":{\"line\":{\"color\":\"#2a3f5f\"}},\"ternary\":{\"aaxis\":{\"gridcolor\":\"white\",\"linecolor\":\"white\",\"ticks\":\"\"},\"baxis\":{\"gridcolor\":\"white\",\"linecolor\":\"white\",\"ticks\":\"\"},\"bgcolor\":\"#E5ECF6\",\"caxis\":{\"gridcolor\":\"white\",\"linecolor\":\"white\",\"ticks\":\"\"}},\"title\":{\"x\":0.05},\"xaxis\":{\"automargin\":true,\"gridcolor\":\"white\",\"linecolor\":\"white\",\"ticks\":\"\",\"title\":{\"standoff\":15},\"zerolinecolor\":\"white\",\"zerolinewidth\":2},\"yaxis\":{\"automargin\":true,\"gridcolor\":\"white\",\"linecolor\":\"white\",\"ticks\":\"\",\"title\":{\"standoff\":15},\"zerolinecolor\":\"white\",\"zerolinewidth\":2}}},\"xaxis\":{\"anchor\":\"y\",\"domain\":[0.0,1.0],\"title\":{\"text\":\"Time\"}},\"yaxis\":{\"anchor\":\"x\",\"domain\":[0.0,1.0],\"title\":{\"text\":\"Tweets per Day\"}},\"legend\":{\"tracegroupgap\":0},\"title\":{\"text\":\"Bitcoin Tweets\"}},                        {\"responsive\": true}                    ).then(function(){\n",
       "                            \n",
       "var gd = document.getElementById('0660a378-b814-4b41-bec5-43234d0fa78e');\n",
       "var x = new MutationObserver(function (mutations, observer) {{\n",
       "        var display = window.getComputedStyle(gd).display;\n",
       "        if (!display || display === 'none') {{\n",
       "            console.log([gd, 'removed!']);\n",
       "            Plotly.purge(gd);\n",
       "            observer.disconnect();\n",
       "        }}\n",
       "}});\n",
       "\n",
       "// Listen for the removal of the full notebook cells\n",
       "var notebookContainer = gd.closest('#notebook-container');\n",
       "if (notebookContainer) {{\n",
       "    x.observe(notebookContainer, {childList: true});\n",
       "}}\n",
       "\n",
       "// Listen for the clearing of the current output cell\n",
       "var outputEl = gd.closest('.output');\n",
       "if (outputEl) {{\n",
       "    x.observe(outputEl, {childList: true});\n",
       "}}\n",
       "\n",
       "                        })                };                });            </script>        </div>"
      ]
     },
     "metadata": {},
     "output_type": "display_data"
    }
   ],
   "source": [
    "figure = px.line(tweet_counts_df, x='start', y='hour_count',\n",
    "    labels={'start': 'Time', 'hour_count': 'Tweets per Day'},\n",
    "    title= 'Bitcoin Tweets'\n",
    ")\n",
    "\n",
    "figure.show()"
   ]
  },
  {
   "cell_type": "code",
   "execution_count": null,
   "id": "6d3423de",
   "metadata": {},
   "outputs": [],
   "source": []
  },
  {
   "cell_type": "code",
   "execution_count": null,
   "id": "aa3fb5e2",
   "metadata": {},
   "outputs": [],
   "source": []
  }
 ],
 "metadata": {
  "kernelspec": {
   "display_name": "Python 3",
   "language": "python",
   "name": "python3"
  },
  "language_info": {
   "codemirror_mode": {
    "name": "ipython",
    "version": 3
   },
   "file_extension": ".py",
   "mimetype": "text/x-python",
   "name": "python",
   "nbconvert_exporter": "python",
   "pygments_lexer": "ipython3",
   "version": "3.8.8"
  }
 },
 "nbformat": 4,
 "nbformat_minor": 5
}
